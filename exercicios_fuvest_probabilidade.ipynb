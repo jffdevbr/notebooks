{
  "nbformat": 4,
  "nbformat_minor": 0,
  "metadata": {
    "colab": {
      "provenance": []
    },
    "kernelspec": {
      "name": "python3",
      "display_name": "Python 3"
    },
    "language_info": {
      "name": "python"
    }
  },
  "cells": [
    {
      "cell_type": "markdown",
      "source": [
        "#Lista de exercícios de estatística e probabilidade\n",
        "Neste notebook fiz uma seleção de 5 exercícios de vestibular de probabilidade\n",
        "para resolver utilizando Python."
      ],
      "metadata": {
        "id": "xHwk_m9BrdwZ"
      }
    },
    {
      "cell_type": "markdown",
      "source": [
        "##Importação de Bibliotecas e Pacotes"
      ],
      "metadata": {
        "id": "hPwtokErsZgV"
      }
    },
    {
      "cell_type": "code",
      "source": [
        "import math\n",
        "from itertools import product, permutations, combinations, combinations_with_replacement"
      ],
      "metadata": {
        "id": "bblhAe_gr0yu"
      },
      "execution_count": 40,
      "outputs": []
    },
    {
      "cell_type": "markdown",
      "source": [
        "## Fórmulas e funções"
      ],
      "metadata": {
        "id": "3j46nzGbt76m"
      }
    },
    {
      "cell_type": "code",
      "source": [
        "# Porcentagem\n",
        "def porcentagem(valor: float):\n",
        "  return f'{valor*100:.2f}%'\n",
        "\n",
        "# Probabilidade\n",
        "def probabilidade(evento: int, espaco_amostral:int):\n",
        "  return float(evento/espaco_amostral)\n",
        "\n",
        "# Fórmulas de Análise Combinatória - utilizadas para determinar o número total de eventos\n",
        "# n = número total de possibilidades em 1 caracter\n",
        "# k = número de caracteres\n",
        "\n",
        "# Permutação - a ordem importa\n",
        "def permutacoes(n: int, k: int, rep: bool = True):\n",
        "  if rep==True:\n",
        "    return n**k # com repetição\n",
        "  else:\n",
        "    return math.factorial(n)/math.factorial(n-k) # sem repetição\n",
        "\n",
        "# Combinação - a ordem não importa\n",
        "def combinacoes(n: int, k: int, rep: bool = True):\n",
        "  if rep==True:\n",
        "    return math.factorial(n+k-1)/(math.factorial(k)*math.factorial(n-1)) # com repetição\n",
        "  else:\n",
        "    return math.factorial(n)/(math.factorial(k)*math.factorial(n-k)) # sem repetição"
      ],
      "metadata": {
        "id": "rGFEZ_5JuDDt"
      },
      "execution_count": 41,
      "outputs": []
    },
    {
      "cell_type": "markdown",
      "source": [
        "##Exercício 1\n",
        "(Fuvest 2017) Cláudia, Paulo, Rodrigo e Ana brincam entre si de amigo-secreto (ou amigo-oculto). Cada nome é escrito em um pedaço de papel, que é colocado em uma urna, e cada participante retira um deles ao acaso. A probabilidade de que nenhum participante retire seu próprio nome é:\n",
        "\n",
        "a) 1/4\n",
        "\n",
        "b) 7/24\n",
        "\n",
        "c) 1/3\n",
        "\n",
        "d) 3/8\n",
        "\n",
        "e) 5/12\n",
        "\n",
        "Resposta: D"
      ],
      "metadata": {
        "id": "qoaFtniQr1Vj"
      }
    },
    {
      "cell_type": "code",
      "execution_count": 42,
      "metadata": {
        "colab": {
          "base_uri": "https://localhost:8080/"
        },
        "id": "T_M83Yb5rOfs",
        "outputId": "58cfd6d6-f2b7-4225-e6df-4f85d21369b6"
      },
      "outputs": [
        {
          "output_type": "stream",
          "name": "stdout",
          "text": [
            "Probabilidade de nenhum sorteador sortear o próprio nome é: 37.50%\n"
          ]
        }
      ],
      "source": [
        "# Resolução\n",
        "# Raciocínio: preciso descobrir quantas opções de sorteio possíveis existem,\n",
        "# e em quantas delas  nenhum dos participantes tira o próprio nome\n",
        "# Não existe repetiçao no sorteio (quem já tirou o papel não pode tirar denovo, e há apenas 1 papel para cada amigo, que não volta para a urna)\n",
        "# A ordem importa\n",
        "amigos = ['Cláudia', 'Paulo', 'Rodrigo', 'Ana']\n",
        "possibilidades_sorteio = permutacoes(len(amigos),len(amigos),False)\n",
        "# C P R A - C tira P, P tira R, R tira A, A tira C ... 3! = 6\n",
        "# C P e R A, ou C R e P A, ou C A e R P - possíveis duplas ... 3\n",
        "possibilidades_nenhum_tirando_nome = 9\n",
        "resultado = porcentagem(probabilidade(possibilidades_nenhum_tirando_nome, possibilidades_sorteio))\n",
        "# Em todas as possibilidades de sorteio há 1 chance de todos sortearem o próprio nome, e o restante disso não acontecer (4! - 1)\n",
        "print(f'Probabilidade de nenhum sorteador sortear o próprio nome é: {resultado}')"
      ]
    },
    {
      "cell_type": "code",
      "source": [
        "#Criando um programa que resolveria o problema independentemente do número de amigos do sorteio,\n",
        "# usando a fórmula da permutação caótica ... !n = n!/e (constante de Euler)\n",
        "def permutacao_caotica(n: int):\n",
        "  return round(math.factorial(n)/math.e)\n",
        "amigos = int(input(\"Digite o número de amigos: \"))\n",
        "possibilidades_nenhum_tirando_nome = permutacao_caotica(amigos)\n",
        "possibilidades_sorteio = permutacoes(amigos,amigos, False)\n",
        "resultado = porcentagem(probabilidade(possibilidades_nenhum_tirando_nome, possibilidades_sorteio))\n",
        "print(f'O número de possibilidades de sorteio é: {possibilidades_sorteio}')\n",
        "print(f'O número de possibilidades em que nenhum sorteia o próprio nome é: {possibilidades_nenhum_tirando_nome}')\n",
        "print(f'Probabilidade de nenhum sorteador sortear o próprio nome é: {resultado}')"
      ],
      "metadata": {
        "colab": {
          "base_uri": "https://localhost:8080/"
        },
        "id": "LF5_mPeqG6L8",
        "outputId": "c459caf5-bf37-4dd1-8e8a-19b6ac8e05a5"
      },
      "execution_count": 43,
      "outputs": [
        {
          "output_type": "stream",
          "name": "stdout",
          "text": [
            "Digite o número de amigos: 4\n",
            "O número de possibilidades de sorteio é: 24.0\n",
            "O número de possibilidades em que nenhum sorteia o próprio nome é: 9\n",
            "Probabilidade de nenhum sorteador sortear o próprio nome é: 37.50%\n"
          ]
        }
      ]
    },
    {
      "cell_type": "markdown",
      "source": [
        "##Exercício 2\n",
        "(Fuvest 2014) O gamão é um jogo de tabuleiro muito antigo, para dois oponentes, que combina a sorte, em lances de dados, com estratégia no movimento das peças. Pelas regras adotadas, atualmente, no Brasil, o número total de casas que as peças de um jogador podem avançar, numa dada jogada, é determinado pelo resultado do lançamento de dois dados. Esse número é igual à soma dos valores obtidos nos dois dados, se esses valores forem diferentes entre si; e é igual ao dobro da soma, se os valores obtidos nos dois dados forem iguais.\n",
        "\n",
        "Supondo que os dados não sejam viciados, a probabilidade de um jogador poder fazer suas peças andarem pelo menos oito casas em uma jogada é:\n",
        "\n",
        "a) 1/3\n",
        "\n",
        "b) 5/12\n",
        "\n",
        "c) 17/36\n",
        "\n",
        "d) 1/2\n",
        "\n",
        "e) 19/36\n",
        "\n",
        "Resposta : C"
      ],
      "metadata": {
        "id": "rV4rSgbmr-Wd"
      }
    },
    {
      "cell_type": "code",
      "source": [
        "# Dois dados - 6 lados - 1 a 6\n",
        "#  Soma dos valores obtidos, quando eles diferem\n",
        "#  Dobro da soma, quando são iguais\n",
        "#  Probabilidade do valor de casas total ser 8 ou mais - em 1 jogada\n",
        "\n",
        "# Em quantas ops o total é menor que 8?\n",
        "# 1,1 = (1+1)*2 = 2*2 = 4\n",
        "# 1,2 ou 2,1 = 3\n",
        "# 1,3 ou 3,1 = 4\n",
        "# 1,4 ou 4,1 = 5\n",
        "# 1,5 ou 5,1 = 6\n",
        "# 1,6 ou 6,1 = 7\n",
        "# 2,3 ou 3,2 = 5\n",
        "# 2,4 ou 4,2 = 6\n",
        "# 2,5 ou 5,2 = 7\n",
        "# 3,4 ou 4,3 = 7\n",
        "# 19 não eventos\n",
        "\n",
        "# Quantas ops totais?\n",
        "# A ordem importa\n",
        "espaco_amostral = permutacoes(6,2,True)\n",
        "eventos = espaco_amostral - 19\n",
        "resultado = porcentagem(probabilidade(eventos,espaco_amostral))\n",
        "\n",
        "print(f'O espaço amostral é: {espaco_amostral}')\n",
        "print(f'O número de eventos é: {eventos}')\n",
        "print(f'A probabilidade de um jogador poder fazer suas peças andarem pelo menos 8 casas em uma jogada é: {resultado}')\n"
      ],
      "metadata": {
        "id": "7B8H6V4or935",
        "colab": {
          "base_uri": "https://localhost:8080/"
        },
        "outputId": "c56e4ec4-bae0-4bdf-ccfa-23d1811c8495"
      },
      "execution_count": 44,
      "outputs": [
        {
          "output_type": "stream",
          "name": "stdout",
          "text": [
            "O espaço amostral é: 36\n",
            "O número de eventos é: 17\n",
            "A probabilidade de um jogador poder fazer suas peças andarem pelo menos 8 casas em uma jogada é: 47.22%\n"
          ]
        }
      ]
    },
    {
      "cell_type": "code",
      "source": [
        "# Programa que calcula a probalidade de andar certo número de casas ou mais no gamão\n",
        "\n",
        "valor_casas = int(input(\"Escolha o número de casas desejado: \"))\n",
        "\n",
        "# Listando todo o espaço amostral\n",
        "dado = [1,2,3,4,5,6]\n",
        "possibilidades = list(product(dado, repeat=2))\n",
        "# Definindo o número total de eventos possíveis do espaço amostral\n",
        "espaço_amostral = len(possibilidades)\n",
        "# Inicializando a variável eventos = 0\n",
        "eventos = 0\n",
        "\n",
        "# Loop para iterar no espaço amostraç\n",
        "for i in range(espaço_amostral):\n",
        "    # Teste se os dados deram o mesmo valor\n",
        "    if possibilidades[i][0] == possibilidades[i][1]:\n",
        "        # Calculando o valor de casas quando os dados dão o mesmo valor\n",
        "        casas_dados_iguais = (possibilidades[i][0] + possibilidades[i][1])*2\n",
        "        # Comparando se o valor de casas da iteração é superior ou igual ao definido pelo usuário\n",
        "        if(casas_dados_iguais >= valor_casas):\n",
        "            # Imprimindo os dados e o valor de casas do evento\n",
        "            print(f'{possibilidades[i]} , valor de casas = {casas_dados_iguais}')\n",
        "            # Adicionando ao valor de eventos\n",
        "            eventos += 1\n",
        "    # Verificando se a soma do valor dos dados é igual ou superior ao valor das casas\n",
        "    elif sum(possibilidades[i]) >= valor_casas:\n",
        "        # Imprimindo os dados e o valor de casas do evento\n",
        "        print(f'{possibilidades[i]} , valor de casas = {sum(possibilidades[i])}')\n",
        "        # Adicionando ao valor de eventos\n",
        "        eventos += 1\n",
        "\n",
        "resultado = porcentagem(probabilidade(eventos,espaço_amostral))\n",
        "\n",
        "# Imprimindo o resultado na tela\n",
        "print(f'O espaço amostral é: {espaço_amostral}')\n",
        "print(f'O número de eventos é: {eventos}')\n",
        "print(f'A probabilidade de um jogador poder fazer suas peças andarem pelo menos {valor_casas} casas em uma jogada é: {resultado}')\n",
        "\n",
        "\n"
      ],
      "metadata": {
        "colab": {
          "base_uri": "https://localhost:8080/"
        },
        "id": "ZL9Uc3OB2Fu5",
        "outputId": "442a9198-36f1-4d89-9d44-d649958147e0"
      },
      "execution_count": 45,
      "outputs": [
        {
          "output_type": "stream",
          "name": "stdout",
          "text": [
            "Escolha o número de casas desejado: 8\n",
            "(2, 2) , valor de casas = 8\n",
            "(2, 6) , valor de casas = 8\n",
            "(3, 3) , valor de casas = 12\n",
            "(3, 5) , valor de casas = 8\n",
            "(3, 6) , valor de casas = 9\n",
            "(4, 4) , valor de casas = 16\n",
            "(4, 5) , valor de casas = 9\n",
            "(4, 6) , valor de casas = 10\n",
            "(5, 3) , valor de casas = 8\n",
            "(5, 4) , valor de casas = 9\n",
            "(5, 5) , valor de casas = 20\n",
            "(5, 6) , valor de casas = 11\n",
            "(6, 2) , valor de casas = 8\n",
            "(6, 3) , valor de casas = 9\n",
            "(6, 4) , valor de casas = 10\n",
            "(6, 5) , valor de casas = 11\n",
            "(6, 6) , valor de casas = 24\n",
            "O espaço amostral é: 36\n",
            "O número de eventos é: 17\n",
            "A probabilidade de um jogador poder fazer suas peças andarem pelo menos 8 casas em uma jogada é: 47.22%\n"
          ]
        }
      ]
    },
    {
      "cell_type": "markdown",
      "source": [
        "##Exercício 3\n",
        "(Fuvest 2011) Um dado cúbico, não viciado, com faces numeradas de 1 a 6, é lançado três vezes. Em cada lançamento, anotase o número obtido na face superior do dado, formando-se uma sequência (a, b, c). Qual é a probabilidade de que b seja sucessor de a ou que c seja sucessor de b?\n",
        "\n",
        "a) 4/27\n",
        "\n",
        "b) 11/54\n",
        "\n",
        "c) 7/27\n",
        "\n",
        "d) 10/27\n",
        "\n",
        "e) 23/54\n",
        "\n",
        "Resposta: C"
      ],
      "metadata": {
        "id": "yti8GR5Cr-rQ"
      }
    },
    {
      "cell_type": "code",
      "source": [
        "# Probabilidade de b == a+1 ou c == b+1\n",
        "\n",
        "dado = [1,2,3,4,5,6]\n",
        "possibilidades = list(product(dado, repeat=3))\n",
        "espaço_amostral=len(possibilidades)\n",
        "eventos = 0\n",
        "for i in range(espaço_amostral):\n",
        "  a = possibilidades[i][0]\n",
        "  b = possibilidades[i][1]\n",
        "  c = possibilidades[i][2]\n",
        "  if b == (a+1) or c == (b+1):\n",
        "    eventos += 1\n",
        "resultado = porcentagem(probabilidade(eventos,espaço_amostral))\n",
        "print(f'O espaço amostral é: {espaço_amostral}')\n",
        "print(f'O número de eventos é: {eventos}')\n",
        "print(f'A probabilidade de b == a+1 ou c == b+1 é: {resultado}')\n"
      ],
      "metadata": {
        "id": "Gn3wO-pgsWxU",
        "colab": {
          "base_uri": "https://localhost:8080/"
        },
        "outputId": "a9c253e4-e9eb-4270-e583-839bc6899077"
      },
      "execution_count": 46,
      "outputs": [
        {
          "output_type": "stream",
          "name": "stdout",
          "text": [
            "O espaço amostral é: 216\n",
            "O número de eventos é: 56\n",
            "A probabilidade de b == a+1 ou c == b+1 é: 25.93%\n"
          ]
        }
      ]
    },
    {
      "cell_type": "markdown",
      "source": [
        "##Exercício 4\n",
        "(Fuvest 2009) Dois dados cúbicos, não viciados, com faces numeradas de 1 a 6, serão lançados simultaneamente. A probabilidade de que sejam sorteados dois números consecutivos, cuja soma seja um número primo, é de:\n",
        "\n",
        "a) 2/9\n",
        "\n",
        "b) 1/3\n",
        "\n",
        "c) 4/9\n",
        "\n",
        "d) 5/9\n",
        "\n",
        "e) 2/3\n",
        "\n",
        "Resposta: A"
      ],
      "metadata": {
        "id": "twFuKqJZr-ud"
      }
    },
    {
      "cell_type": "code",
      "source": [
        "# Probabilidade b == a+1 e a+b==numero primo\n",
        "# Função quee verifica se um número é primo\n",
        "def ehprimo(n):\n",
        "    if n <= 1:\n",
        "        return False\n",
        "    for i in range(2, int(n**0.5) + 1):\n",
        "        if n % i == 0:\n",
        "            return False\n",
        "    return True\n",
        "\n",
        "dado=[1,2,3,4,5,6]\n",
        "possibilidades=list(product(dado,repeat=2))\n",
        "espaco_amostral = len(possibilidades)\n",
        "eventos = 0\n",
        "\n",
        "for i in range(espaco_amostral):\n",
        "  a = possibilidades[i][0]\n",
        "  b = possibilidades[i][1]\n",
        "  soma = a+b\n",
        "  if (b == a+1) and (ehprimo(a+b)):\n",
        "    print(f'{possibilidades[i]}')\n",
        "    eventos += 1\n",
        "\n",
        "resultado = porcentagem(probabilidade(eventos,espaco_amostral))\n",
        "\n",
        "print(f'O espaço amostral é: {espaco_amostral}')\n",
        "print(f'O número de eventos é: {eventos}')\n",
        "print(f'A probabilidade de b == a+1 e a+b==numero primo é: {resultado}')"
      ],
      "metadata": {
        "id": "M7UDnoUpsXS1",
        "colab": {
          "base_uri": "https://localhost:8080/"
        },
        "outputId": "5fe8732b-2240-4e38-926e-7e82fa9e34a7"
      },
      "execution_count": 50,
      "outputs": [
        {
          "output_type": "stream",
          "name": "stdout",
          "text": [
            "(1, 2)\n",
            "(2, 3)\n",
            "(3, 4)\n",
            "(5, 6)\n",
            "O espaço amostral é: 36\n",
            "O número de eventos é: 4\n",
            "A probabilidade de b == a+1 e a+b==numero primo é: 11.11%\n"
          ]
        }
      ]
    },
    {
      "cell_type": "markdown",
      "source": [
        "##Exercício 5\n",
        "(Fuvest 2000) Um arquivo de escritório possui 4 gavetas, chamadas a, b, c, d. Em cada gaveta cabem no máximo 5 pastas. Uma secretária guardou, ao acaso, 18 pastas nesse arquivo. Qual é a probabilidade de haver exatamente 4 pastas na gaveta a?\n",
        "\n",
        "a) 3/10\n",
        "\n",
        "b) 1/10\n",
        "\n",
        "c) 3/20\n",
        "\n",
        "d) 1/20\n",
        "\n",
        "e) 1/30\n",
        "\n",
        "Resposta: A"
      ],
      "metadata": {
        "id": "7gfQgox6r-xD"
      }
    },
    {
      "cell_type": "code",
      "source": [
        "# Definindo as gavetas do arquivo\n",
        "arquivo = ['a','b','c','d']\n",
        "# Definindo o intervalo possível de número de pastas na gaveta\n",
        "qtd_pastas_gaveta = [0, 1, 2, 3, 4, 5]\n",
        "# Listando todas as possibilidades possíveis\n",
        "possibilidades = list(product(qtd_pastas_gaveta, repeat=len(arquivo)))\n",
        "# Inicializando a variável eventos e espaço amostral\n",
        "espaço_amostral = 0\n",
        "eventos = 0\n",
        "# Iterando nas possibilidades\n",
        "for i in range(len(possibilidades)):\n",
        "  # Filtrando as configurações do arquivo em que a soma é 18\n",
        "  # Delimitando o espaço amostral\n",
        "  if sum(possibilidades[i]) == 18:\n",
        "    print(f'{possibilidades[i]}')\n",
        "    espaço_amostral += 1\n",
        "    # Filtrando os eventos desejados (a == 4)\n",
        "    if(possibilidades[i][0] == 4):\n",
        "      print(\"Evento desejado\")\n",
        "      eventos += 1\n",
        "resultado = porcentagem(probabilidade(eventos,espaço_amostral))\n",
        "print(f'O espaço amostral é: {espaço_amostral}')\n",
        "print(f'O número de eventos é: {eventos}')\n",
        "print(f'A probabilidade de haver exatamente 4 pastas na gaveta \"A\" é: {resultado}')"
      ],
      "metadata": {
        "id": "EPzpAE2XsXuO",
        "colab": {
          "base_uri": "https://localhost:8080/"
        },
        "outputId": "49771534-d089-4062-a5ad-7b136445c9e9"
      },
      "execution_count": 53,
      "outputs": [
        {
          "output_type": "stream",
          "name": "stdout",
          "text": [
            "(3, 5, 5, 5)\n",
            "(4, 4, 5, 5)\n",
            "Evento desejado\n",
            "(4, 5, 4, 5)\n",
            "Evento desejado\n",
            "(4, 5, 5, 4)\n",
            "Evento desejado\n",
            "(5, 3, 5, 5)\n",
            "(5, 4, 4, 5)\n",
            "(5, 4, 5, 4)\n",
            "(5, 5, 3, 5)\n",
            "(5, 5, 4, 4)\n",
            "(5, 5, 5, 3)\n",
            "O espaço amostral é: 10\n",
            "O número de eventos é: 3\n",
            "A probabilidade de haver exatamente 4 pastas na gaveta \"A\" é: 30.00%\n"
          ]
        }
      ]
    },
    {
      "cell_type": "code",
      "source": [
        "# Programa que calcula a probalidade de haver X arquivos na gaveta selecionada\n",
        "\n",
        "# Definindo as gavetas do arquivo\n",
        "arquivo = ['a','b','c','d']\n",
        "print(f'As gavetas do arquivo são: {arquivo}')\n",
        "\n",
        "# Definindo o intervalo possível de número de pastas na gaveta\n",
        "qtd_pastas_gaveta = [0, 1, 2, 3, 4, 5]\n",
        "print('Em cada gaveta pode haver de 0 à 5 pastas')\n",
        "\n",
        "#Esplicando ao usuário o que o programa faz\n",
        "print('À seguir, insira as informações de interesse para calcular a probabilidade de haver x pastas na gaveta escolhida, \\\n",
        "considerando o valor total de pastas no arquivo')\n",
        "\n",
        "# Pedindo ao usuário a gaveta e o número de arquivos que ele quer calcular a probabilidade diante da soma de pastas\n",
        "validacao=False\n",
        "while validacao==False:\n",
        "  num_pastas = int(input(\"Digite o número de pastas desejadas no arquivo: \"))\n",
        "  gaveta = input(\"Digite a gaveta desejada: \")\n",
        "  pastas_gaveta = int(input(\"Digite o número de pastas na gaveta: \"))\n",
        "  if((num_pastas > 20) or (num_pastas < 0)):\n",
        "    print(\"Número de pastas inválido\")\n",
        "    validacao=False\n",
        "  elif((gaveta != 'a') and (gaveta != 'b') and (gaveta != 'c') and (gaveta != 'd')):\n",
        "    print(\"Gaveta inválida\")\n",
        "    validacao=False\n",
        "  elif((pastas_gaveta > 5) or (pastas_gaveta < 0)):\n",
        "    print(\"Número de pastas inválido\")\n",
        "    validacao=False\n",
        "  else:\n",
        "    validacao=True\n",
        "\n",
        "# Definindo o valor da gaveta na posição do vetor\n",
        "if gaveta == 'a':\n",
        "  ngaveta = 0\n",
        "elif gaveta == 'b':\n",
        "  ngaveta = 1\n",
        "elif gaveta == 'c':\n",
        "  ngaveta = 2\n",
        "elif gaveta == 'd':\n",
        "  ngaveta = 3\n",
        "\n",
        "# Listando todas as possibilidades possíveis\n",
        "possibilidades = list(product(qtd_pastas_gaveta, repeat=len(arquivo)))\n",
        "\n",
        "# Inicializando a variável eventos e espaço amostral\n",
        "espaço_amostral = 0\n",
        "eventos = 0\n",
        "\n",
        "# Iterando nas possibilidades\n",
        "for i in range(len(possibilidades)):\n",
        "  # Filtrando as configurações do arquivo em que a quantidade de pastas no arquivo é o valor inserido pelo usuário\n",
        "  # Delimitando o espaço amostral\n",
        "  if sum(possibilidades[i]) == num_pastas:\n",
        "    print(f'{possibilidades[i]}')\n",
        "    espaço_amostral += 1\n",
        "    # Filtrando os eventos desejados (a == 4)\n",
        "    if(possibilidades[i][ngaveta] == pastas_gaveta):\n",
        "      print(\"Evento desejado\")\n",
        "      eventos += 1\n",
        "resultado = porcentagem(probabilidade(eventos,espaço_amostral))\n",
        "print(f'O espaço amostral é: {espaço_amostral}')\n",
        "print(f'O número de eventos é: {eventos}')\n",
        "print(f'A probabilidade de haver exatamente {pastas_gaveta} pastas na gaveta \"{gaveta}\", \\\n",
        "considerando que há {num_pastas} pastas no arquivo, é: {resultado}')"
      ],
      "metadata": {
        "colab": {
          "base_uri": "https://localhost:8080/"
        },
        "id": "FmLtBTe8Q9yh",
        "outputId": "4257cd3b-3783-43b4-d917-a4ae9febefe7"
      },
      "execution_count": 60,
      "outputs": [
        {
          "output_type": "stream",
          "name": "stdout",
          "text": [
            "As gavetas do arquivo são: ['a', 'b', 'c', 'd']\n",
            "Em cada gaveta pode haver de 0 à 5 pastas\n",
            "À seguir, insira as informações de interesse para calcular a probabilidade de haver x pastas na gaveta escolhida, considerando o valor total de pastas no arquivo\n",
            "Digite o número de pastas desejadas no arquivo: 18\n",
            "Digite a gaveta desejada: a\n",
            "Digite o número de pastas na gaveta: 4\n",
            "(3, 5, 5, 5)\n",
            "(4, 4, 5, 5)\n",
            "Evento desejado\n",
            "(4, 5, 4, 5)\n",
            "Evento desejado\n",
            "(4, 5, 5, 4)\n",
            "Evento desejado\n",
            "(5, 3, 5, 5)\n",
            "(5, 4, 4, 5)\n",
            "(5, 4, 5, 4)\n",
            "(5, 5, 3, 5)\n",
            "(5, 5, 4, 4)\n",
            "(5, 5, 5, 3)\n",
            "O espaço amostral é: 10\n",
            "O número de eventos é: 3\n",
            "A probabilidade de haver exatamente 4 pastas na gaveta \"a\", considerando que há 18 pastas no arquivo, é: 30.00%\n"
          ]
        }
      ]
    },
    {
      "cell_type": "markdown",
      "source": [
        "## Fontes resoluções e pesquisa em geral:\n",
        "- Exercício 1 :\n",
        "  \n",
        "  < https://www.youtube.com/watch?v=05bomgXKyh8&t=237s >\n",
        "\n",
        "## Fontes exercícios:\n",
        "\n",
        "- https://projetomirlene.com.br/questoes-fuvest/matematica/probabilidade.php"
      ],
      "metadata": {
        "id": "FZmiR6nE4hGH"
      }
    }
  ]
}